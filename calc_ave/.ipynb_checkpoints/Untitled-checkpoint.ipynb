{
 "cells": [
  {
   "cell_type": "code",
   "execution_count": 8,
   "metadata": {},
   "outputs": [],
   "source": [
    "import numpy as np\n",
    "import sys\n",
    "sys.path.append(\"..\")\n",
    "import utils\n",
    "from sknetwork.hierarchy import Paris\n",
    "from scipy import sparse"
   ]
  },
  {
   "cell_type": "code",
   "execution_count": 1,
   "metadata": {},
   "outputs": [],
   "source": [
    "#normal tools:\n",
    "import numpy as np\n",
    "import copy\n",
    "import sys\n",
    "sys.path.append(\"..\")\n",
    "import utils\n",
    "import numpy as np\n",
    "from scipy import stats, sparse\n",
    "from tqdm import tqdm\n",
    "\n",
    "from mccv import MCCVSplitter\n",
    "\n",
    "\n",
    "\n",
    "\n",
    "##Set a random seed to make it reproducible!\n",
    "np.random.seed(utils.getSeed())\n",
    "#load up data:\n",
    "x, y = utils.load_feature_and_label_matrices(type='morgan')\n",
    "##select a subset of columns of 'y' to use as a test matrix:\n",
    "#this is the same each time thanks to setting the random.seed.\n",
    "col_indices = np.random.choice(y.shape[1], 100, replace=False)\n",
    "x_, y_ = utils.get_subset(x, y, indices=col_indices)\n",
    "\n",
    "\n",
    "#load the pairwise distance matrix:\n",
    "ecfp_distance_matrix = np.memmap('./morgan_distance_matrix.dat', dtype=np.float16, mode='r', \n",
    "                                 shape=(x_.shape[0], x_.shape[0]))\n",
    "#load the adjacency graph (used for clustering)\n",
    "adjacency = sparse.load_npz('./knn_graph.npz')\n",
    "\n",
    "\n",
    "splitter = MCCVSplitter(x_, y_, adjacency, ecfp_distance_matrix)"
   ]
  },
  {
   "cell_type": "code",
   "execution_count": 2,
   "metadata": {},
   "outputs": [],
   "source": [
    "splitter.cluster()"
   ]
  },
  {
   "cell_type": "code",
   "execution_count": null,
   "metadata": {},
   "outputs": [],
   "source": []
  },
  {
   "cell_type": "code",
   "execution_count": null,
   "metadata": {},
   "outputs": [],
   "source": []
  },
  {
   "cell_type": "code",
   "execution_count": null,
   "metadata": {},
   "outputs": [],
   "source": []
  },
  {
   "cell_type": "code",
   "execution_count": 2,
   "metadata": {},
   "outputs": [],
   "source": [
    "##Set a random seed to make it reproducible!                                                                                                                                     \n",
    "np.random.seed(utils.getSeed())\n",
    "\n",
    "#load up data:                                                                                                                                                                   \n",
    "x, y = utils.load_feature_and_label_matrices(type='morgan')\n",
    "\n",
    "##select a subset of columns of 'y' to use as a test matrix:                                                                                                                     \n",
    "#this is the same each time thanks to setting the random.seed.                                                                                                                   \n",
    "col_indices = np.random.choice(y.shape[1], 100, replace=False)\n",
    "x_, y_ = utils.get_subset(x, y, indices=col_indices)"
   ]
  },
  {
   "cell_type": "code",
   "execution_count": 4,
   "metadata": {},
   "outputs": [],
   "source": [
    "morgan_distance_matrix = np.memmap('./morgan_distance_matrix.dat', dtype=np.float16,\n",
    "              shape=(x_.shape[0], x_.shape[0]))"
   ]
  },
  {
   "cell_type": "code",
   "execution_count": 9,
   "metadata": {},
   "outputs": [],
   "source": [
    "adj = sparse.load_npz('./knn_graph.npz')"
   ]
  },
  {
   "cell_type": "code",
   "execution_count": 11,
   "metadata": {},
   "outputs": [
    {
     "data": {
      "text/plain": [
       "Paris(weights='degree', reorder=True)"
      ]
     },
     "execution_count": 11,
     "metadata": {},
     "output_type": "execute_result"
    }
   ],
   "source": [
    "paris = Paris()\n",
    "paris.fit(adj)"
   ]
  },
  {
   "cell_type": "code",
   "execution_count": 13,
   "metadata": {},
   "outputs": [],
   "source": [
    "dendrogram = paris.dendrogram_"
   ]
  },
  {
   "cell_type": "code",
   "execution_count": 28,
   "metadata": {},
   "outputs": [],
   "source": [
    "max_cluster_size = 300\n",
    "n = dendrogram.shape[0] + 1\n",
    "\n",
    "cluster = {i: [i] for i in range(n)}\n",
    "for t in range(n - 1):\n",
    "    i = int(dendrogram[t][0])\n",
    "    j = int(dendrogram[t][1])\n",
    "    if i in cluster and j in cluster and len(cluster[i]) + len(cluster[j]) <= max_cluster_size:\n",
    "        cluster[n + t] = cluster.pop(i) + cluster.pop(j)"
   ]
  },
  {
   "cell_type": "code",
   "execution_count": 29,
   "metadata": {},
   "outputs": [],
   "source": [
    "def get_labels(dendrogram: np.ndarray, cluster: dict, sort_clusters: bool, return_dendrogram: bool):\n",
    "    \"\"\"Returns the labels from clusters.\"\"\"\n",
    "    n = dendrogram.shape[0] + 1\n",
    "    n_clusters = len(cluster)\n",
    "    clusters = list(cluster.values())\n",
    "    index = None\n",
    "    if sort_clusters:\n",
    "        sizes = np.array([len(nodes) for nodes in clusters])\n",
    "        index = np.argsort(-sizes)\n",
    "        clusters = [clusters[i] for i in index]\n",
    "\n",
    "    labels = np.zeros(n, dtype=int)\n",
    "    for label, nodes in enumerate(clusters):\n",
    "        labels[nodes] = label\n",
    "\n",
    "    if return_dendrogram:\n",
    "        indices_clusters = np.array(list(cluster.keys()))\n",
    "        if sort_clusters:\n",
    "            indices_clusters = indices_clusters[index]\n",
    "        index_new = np.zeros(2 * n - 1, int)\n",
    "        index_new[np.array(indices_clusters)] = np.arange(n_clusters)\n",
    "        index_new[- n_clusters + 1:] = np.arange(n_clusters, 2 * n_clusters - 1)\n",
    "        dendrogram_new = dendrogram[- n_clusters + 1:].copy()\n",
    "        dendrogram_new[:, 0] = index_new[dendrogram_new[:, 0].astype(int)]\n",
    "        dendrogram_new[:, 1] = index_new[dendrogram_new[:, 1].astype(int)]\n",
    "        return labels, dendrogram_new\n",
    "    else:\n",
    "        return labels"
   ]
  },
  {
   "cell_type": "code",
   "execution_count": 30,
   "metadata": {},
   "outputs": [],
   "source": [
    "values, counts = np.unique(get_labels(dendrogram, cluster, True, False), return_counts=True)"
   ]
  },
  {
   "cell_type": "code",
   "execution_count": 31,
   "metadata": {},
   "outputs": [
    {
     "data": {
      "text/plain": [
       "[<matplotlib.lines.Line2D at 0x7f0347fc0ed0>]"
      ]
     },
     "execution_count": 31,
     "metadata": {},
     "output_type": "execute_result"
    },
    {
     "data": {
      "image/png": "[encoded data removed]",
      "text/plain": [
       "<Figure size 432x288 with 1 Axes>"
      ]
     },
     "metadata": {
      "needs_background": "light"
     },
     "output_type": "display_data"
    }
   ],
   "source": [
    "import matplotlib.pyplot as plt\n",
    "plt.plot(counts)"
   ]
  },
  {
   "cell_type": "code",
   "execution_count": null,
   "metadata": {},
   "outputs": [],
   "source": []
  }
 ],
 "metadata": {
  "kernelspec": {
   "display_name": "Python 3",
   "language": "python",
   "name": "python3"
  },
  "language_info": {
   "codemirror_mode": {
    "name": "ipython",
    "version": 3
   },
   "file_extension": ".py",
   "mimetype": "text/x-python",
   "name": "python",
   "nbconvert_exporter": "python",
   "pygments_lexer": "ipython3",
   "version": "3.7.8"
  }
 },
 "nbformat": 4,
 "nbformat_minor": 4
}
